{
 "cells": [
  {
   "cell_type": "code",
   "execution_count": 2,
   "metadata": {},
   "outputs": [
    {
     "name": "stdout",
     "output_type": "stream",
     "text": [
      "   SaleID  ProductID ProductName   SaleDate  Quantity  UnitPrice  TotalSale\n",
      "0       1        104   Product E 2024-01-01        11         49        539\n",
      "1       2        105   Product E 2024-01-02         5         31        155\n",
      "2       3        103   Product A 2024-01-03         4         38        152\n",
      "3       4        105   Product E 2024-01-04         3         17         51\n",
      "4       5        105   Product C 2024-01-05        19         20        380\n"
     ]
    }
   ],
   "source": [
    "import pandas as pd\n",
    "\n",
    "file_path = \"C:\\\\Users\\\\15328\\\\Desktop\\\\Data\\\\sales_data.xlsx\"\n",
    "df = pd.read_excel(file_path)\n",
    "print(df.head())"
   ]
  },
  {
   "cell_type": "code",
   "execution_count": 12,
   "metadata": {},
   "outputs": [
    {
     "name": "stdout",
     "output_type": "stream",
     "text": [
      "  ProductName  TotalSale  Rank\n",
      "0   Product E        539   1.0\n",
      "1   Product E        155   3.0\n",
      "2   Product A        152   4.0\n",
      "3   Product E         51   5.0\n",
      "4   Product C        380   2.0\n",
      "Total Sales: 1277\n"
     ]
    }
   ],
   "source": [
    "import os\n",
    "os.chdir(r'C:\\Users\\15328\\Desktop\\Data')\n",
    "# Read the .xlsx file\n",
    "sales_data = pd.read_excel('sales_data.xlsx')\n",
    "\n",
    "# Get the first five rows of data and extract product name and total sales\n",
    "df = sales_data[['ProductName', 'TotalSale']].head()\n",
    "\n",
    "# Calculate the total sales\n",
    "total_sales = df['TotalSale'].sum()\n",
    "\n",
    "# Add a new column to represent sales ranking\n",
    "df['Rank'] = df['TotalSale'].rank(ascending=False)\n",
    "\n",
    "print(df)\n",
    "print(\"Total Sales:\", total_sales)\n"
   ]
  },
  {
   "cell_type": "code",
   "execution_count": 13,
   "metadata": {},
   "outputs": [
    {
     "data": {
      "image/png": "[encoded data removed]",
      "text/plain": [
       "<Figure size 640x480 with 1 Axes>"
      ]
     },
     "metadata": {},
     "output_type": "display_data"
    }
   ],
   "source": [
    "import pandas as pd\n",
    "import matplotlib.pyplot as plt\n",
    "import os\n",
    "os.chdir(r'C:\\Users\\15328\\Desktop\\Data')\n",
    "\n",
    "# Read the .xlsx file\n",
    "sales_data = pd.read_excel('sales_data.xlsx')\n",
    "\n",
    "# Get product names and total sales\n",
    "products = sales_data['ProductName'].head()\n",
    "sales = sales_data['TotalSale'].head()\n",
    "\n",
    "# Create a bar chart\n",
    "plt.bar(products, sales)\n",
    "\n",
    "# Add title and labels\n",
    "plt.title('Sales by Product')\n",
    "plt.xlabel('Product')\n",
    "plt.ylabel('Sales')\n",
    "\n",
    "# Display the chart\n",
    "plt.show()\n"
   ]
  },
  {
   "cell_type": "code",
   "execution_count": 14,
   "metadata": {},
   "outputs": [
    {
     "name": "stdout",
     "output_type": "stream",
     "text": [
      "[173.90780785 307.86288834 164.33958781 298.29466831 116.49848763\n",
      " 317.43110838 164.33958781 374.84042859 451.38618887 106.9302676\n",
      " 202.61246795 307.86288834 298.29466831 413.11330873 106.9302676\n",
      " 269.5900082  393.97686866 403.5450887  307.86288834 279.15822824\n",
      " 441.81796884 202.61246795 432.2497488  307.86288834 451.38618887\n",
      " 173.90780785 451.38618887 164.33958781 365.27220856 116.49848763\n",
      " 336.56754845 317.43110838 116.49848763 403.5450887  250.45356813\n",
      " 441.81796884 384.40864863 317.43110838 384.40864863 135.6349277\n",
      " 346.13576848 355.70398852 307.86288834 145.20314774 393.97686866\n",
      " 460.95440891 106.9302676  279.15822824 480.09084898 374.84042859\n",
      " 460.95440891 154.77136777 126.06670767 116.49848763 260.02178816\n",
      " 460.95440891 336.56754845 212.18068799 413.11330873 460.95440891]\n"
     ]
    }
   ],
   "source": [
    "from sklearn.model_selection import train_test_split\n",
    "from sklearn.linear_model import LinearRegression\n",
    "import pandas as pd\n",
    "import os\n",
    "os.chdir(r'C:\\Users\\15328\\Desktop\\Data')\n",
    "\n",
    "# Read the .xlsx file\n",
    "sales_data = pd.read_excel('sales_data.xlsx')\n",
    "\n",
    "# Prepare the data\n",
    "X = sales_data[['UnitPrice']] # Features\n",
    "y = sales_data['TotalSale'] # Target variable\n",
    "\n",
    "# Split the dataset into training and testing sets\n",
    "X_train, X_test, y_train, y_test = train_test_split(X, y, test_size=0.2, random_state=42)\n",
    "\n",
    "# Train the model\n",
    "model = LinearRegression()\n",
    "model.fit(X_train, y_train)\n",
    "\n",
    "# Predict\n",
    "predictions = model.predict(X_test)\n",
    "\n",
    "print(predictions)\n"
   ]
  }
 ],
 "metadata": {
  "kernelspec": {
   "display_name": "Python 3",
   "language": "python",
   "name": "python3"
  },
  "language_info": {
   "codemirror_mode": {
    "name": "ipython",
    "version": 3
   },
   "file_extension": ".py",
   "mimetype": "text/x-python",
   "name": "python",
   "nbconvert_exporter": "python",
   "pygments_lexer": "ipython3",
   "version": "3.12.1"
  }
 },
 "nbformat": 4,
 "nbformat_minor": 2
}
